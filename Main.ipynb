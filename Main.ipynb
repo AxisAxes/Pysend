{
 "cells": [
  {
   "cell_type": "code",
   "execution_count": 5,
   "metadata": {},
   "outputs": [],
   "source": [
    "import DatasetBuild as dtb\n",
    "import DecisionTreeRegressorMethod as dtr\n",
    "import RandomForestMethod as rf\n",
    "import ReadSerial as rs\n"
   ]
  },
  {
   "cell_type": "code",
   "execution_count": null,
   "metadata": {},
   "outputs": [],
   "source": [
    "port = ''\n",
    "data_serial = rs.read_serial(port)\n",
    "dtb.build_data('dataset.csv', ['TEMPERATURA', 'UMIDADE'],data_serial)\n",
    "dtr.build_model_tree('dataset path',['TEMPERATURA', 'UMIDADE'], 'TEMPERATURA', 100)\n",
    "rf.build_model_forest('dataset_path', ['TEMPERATURA', 'UMIDADE'], 'TEMPERATURA', 100, max_depth=5, n_estimators=100)\n",
    "\n"
   ]
  }
 ],
 "metadata": {
  "kernelspec": {
   "display_name": "Python 3",
   "language": "python",
   "name": "python3"
  },
  "language_info": {
   "codemirror_mode": {
    "name": "ipython",
    "version": 3
   },
   "file_extension": ".py",
   "mimetype": "text/x-python",
   "name": "python",
   "nbconvert_exporter": "python",
   "pygments_lexer": "ipython3",
   "version": "3.7.3"
  }
 },
 "nbformat": 4,
 "nbformat_minor": 2
}
